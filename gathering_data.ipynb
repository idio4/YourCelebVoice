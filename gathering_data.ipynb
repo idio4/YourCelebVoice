{
 "cells": [
  {
   "cell_type": "code",
   "execution_count": 1,
   "id": "d9ddd30b",
   "metadata": {},
   "outputs": [
    {
     "name": "stderr",
     "output_type": "stream",
     "text": [
      "/home/idio/anaconda3/lib/python3.12/site-packages/speechbrain/utils/autocast.py:188: FutureWarning: `torch.cuda.amp.custom_fwd(args...)` is deprecated. Please use `torch.amp.custom_fwd(args..., device_type='cuda')` instead.\n",
      "  wrapped_fwd = torch.cuda.amp.custom_fwd(fwd, cast_inputs=cast_inputs)\n"
     ]
    }
   ],
   "source": [
    "import torchaudio\n",
    "from speechbrain.inference.speaker import EncoderClassifier\n",
    "import os\n",
    "classifier = EncoderClassifier.from_hparams(source=\"speechbrain/spkrec-ecapa-voxceleb\")\n"
   ]
  },
  {
   "cell_type": "code",
   "execution_count": null,
   "id": "9ae3ba0d",
   "metadata": {},
   "outputs": [
    {
     "name": "stdout",
     "output_type": "stream",
     "text": [
      "collections=[CollectionDescription(name='celebrity_voices')]\n"
     ]
    }
   ],
   "source": [
    "from qdrant_client import QdrantClient\n",
    "\n",
    "qdrant_client = QdrantClient(\n",
    "    url=\"\",\n",
    "    api_key=\"\",\n",
    ")\n",
    "\n",
    "print(qdrant_client.get_collections())"
   ]
  },
  {
   "cell_type": "code",
   "execution_count": 8,
   "id": "1e8e0b62",
   "metadata": {},
   "outputs": [],
   "source": [
    "collection_name = \"celebrity_voices\""
   ]
  },
  {
   "cell_type": "code",
   "execution_count": 5,
   "id": "2f76cd54",
   "metadata": {},
   "outputs": [
    {
     "name": "stderr",
     "output_type": "stream",
     "text": [
      "/tmp/ipykernel_36781/755363720.py:5: DeprecationWarning: `recreate_collection` method is deprecated and will be removed in the future. Use `collection_exists` to check collection existence and `create_collection` instead.\n",
      "  qdrant_client.recreate_collection(\n"
     ]
    },
    {
     "data": {
      "text/plain": [
       "True"
      ]
     },
     "execution_count": 5,
     "metadata": {},
     "output_type": "execute_result"
    }
   ],
   "source": [
    "from qdrant_client.models import VectorParams, Distance\n",
    "\n",
    "collection_name = \"celebrity_voices\"\n",
    "\n",
    "qdrant_client.recreate_collection(\n",
    "    collection_name=collection_name,\n",
    "    vectors_config=VectorParams(\n",
    "        size=192,\n",
    "        distance=Distance.COSINE,\n",
    "        hnsw_config={\n",
    "            \"m\": 16,\n",
    "            \"ef_construct\": 100,\n",
    "        }\n",
    "    )\n",
    ")\n"
   ]
  },
  {
   "cell_type": "code",
   "execution_count": 3,
   "id": "24106e80",
   "metadata": {},
   "outputs": [
    {
     "name": "stdout",
     "output_type": "stream",
     "text": [
      "Total embeddings created: 4874\n",
      "Example metadata: {'id': 'id10271', 'path': 'OZcAiOZBNjQ', 'num': '00001'}\n"
     ]
    }
   ],
   "source": [
    "base_dir = 'dataset/vox1_test_wav/wav'\n",
    "embeddings = []\n",
    "metadata_list = []\n",
    "\n",
    "# Outer loop for each speaker id directory (e.g., 'id10271', 'id10272', ...)\n",
    "for speaker_id in os.listdir(base_dir):\n",
    "    speaker_path = os.path.join(base_dir, speaker_id)\n",
    "    if os.path.isdir(speaker_path):\n",
    "        # Inner loop for each celebrity subfolder (e.g., '1gtz-CUIygI')\n",
    "        for celeb_folder in os.listdir(speaker_path):\n",
    "            folder_path = os.path.join(speaker_path, celeb_folder)\n",
    "            if os.path.isdir(folder_path):\n",
    "                # Loop through each WAV file in the celeb's folder\n",
    "                for file_name in os.listdir(folder_path):\n",
    "                    if file_name.endswith('.wav'):\n",
    "                        file_path = os.path.join(folder_path, file_name)\n",
    "                        signal, fs = torchaudio.load(file_path)\n",
    "                        embedding = classifier.encode_batch(signal).flatten()\n",
    "                        embeddings.append(embedding)\n",
    "                        # Remove file extension to get number\n",
    "                        num = os.path.splitext(file_name)[0]\n",
    "                        metadata = {'id': speaker_id, 'path': celeb_folder, 'num': num}\n",
    "                        metadata_list.append(metadata)\n",
    "\n",
    "print(\"Total embeddings created:\", len(embeddings))\n",
    "print(\"Example metadata:\", metadata_list[0])"
   ]
  },
  {
   "cell_type": "code",
   "execution_count": 6,
   "id": "29cd0bb6",
   "metadata": {},
   "outputs": [],
   "source": [
    "ids = [i for i in range(len(embeddings))]"
   ]
  },
  {
   "cell_type": "code",
   "execution_count": 9,
   "id": "571d57aa",
   "metadata": {},
   "outputs": [],
   "source": [
    "batch_size = 1000\n",
    "\n",
    "for i in range(0, len(embeddings), batch_size):\n",
    "    batch_points = [\n",
    "        {\n",
    "            \"id\": ids[j],\n",
    "            \"vector\": embeddings[j],\n",
    "            \"payload\": metadata_list[j]\n",
    "        }\n",
    "        for j in range(i, min(i + batch_size, len(embeddings)))\n",
    "    ]\n",
    "\n",
    "    qdrant_client.upsert(\n",
    "        collection_name=collection_name,\n",
    "        points=batch_points\n",
    "    )\n"
   ]
  },
  {
   "cell_type": "code",
   "execution_count": 10,
   "id": "6f72a6f6",
   "metadata": {},
   "outputs": [],
   "source": [
    "all_points = []\n",
    "next_page_offset = None\n",
    "\n",
    "while True:\n",
    "    points, next_page_offset = qdrant_client.scroll(\n",
    "        collection_name=collection_name,\n",
    "        offset=next_page_offset,\n",
    "        limit=100,\n",
    "        with_payload=True,\n",
    "        with_vectors=True\n",
    "    )\n",
    "\n",
    "    all_points.extend(points)\n",
    "\n",
    "    if next_page_offset is None:\n",
    "        break"
   ]
  }
 ],
 "metadata": {
  "kernelspec": {
   "display_name": "base",
   "language": "python",
   "name": "python3"
  },
  "language_info": {
   "codemirror_mode": {
    "name": "ipython",
    "version": 3
   },
   "file_extension": ".py",
   "mimetype": "text/x-python",
   "name": "python",
   "nbconvert_exporter": "python",
   "pygments_lexer": "ipython3",
   "version": "3.12.7"
  }
 },
 "nbformat": 4,
 "nbformat_minor": 5
}
