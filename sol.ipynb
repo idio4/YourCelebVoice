{
 "cells": [
  {
   "cell_type": "code",
   "execution_count": null,
   "id": "79afc5a3",
   "metadata": {},
   "outputs": [
    {
     "name": "stderr",
     "output_type": "stream",
     "text": [
      "/home/idio/anaconda3/lib/python3.12/site-packages/speechbrain/utils/autocast.py:188: FutureWarning: `torch.cuda.amp.custom_fwd(args...)` is deprecated. Please use `torch.amp.custom_fwd(args..., device_type='cuda')` instead.\n",
      "  wrapped_fwd = torch.cuda.amp.custom_fwd(fwd, cast_inputs=cast_inputs)\n"
     ]
    }
   ],
   "source": [
    "import torchaudio\n",
    "from collections import defaultdict\n",
    "from speechbrain.inference.speaker import EncoderClassifier\n",
    "classifier = EncoderClassifier.from_hparams(source=\"speechbrain/spkrec-ecapa-voxceleb\")"
   ]
  },
  {
   "cell_type": "code",
   "execution_count": null,
   "id": "18af25c2",
   "metadata": {},
   "outputs": [
    {
     "name": "stdout",
     "output_type": "stream",
     "text": [
      "collections=[CollectionDescription(name='celebrity_voices')]\n"
     ]
    }
   ],
   "source": [
    "from qdrant_client import QdrantClient\n",
    "\n",
    "qdrant_client = QdrantClient(\n",
    "    url=\"\",\n",
    "    api_key=\"\",\n",
    ")\n",
    "\n",
    "print(qdrant_client.get_collections())"
   ]
  },
  {
   "cell_type": "code",
   "execution_count": null,
   "id": "14810bb1",
   "metadata": {},
   "outputs": [],
   "source": [
    "def search_sim(usr_path):\n",
    "    signal, fs = torchaudio.load(usr_path)\n",
    "    user_emb = classifier.encode_batch(signal).flatten()\n",
    "    search_results = qdrant_client.search(\n",
    "        collection_name=\"celebrity_voices\",\n",
    "        query_vector=user_emb,\n",
    "        limit=100\n",
    "    )\n",
    "    speaker_best = defaultdict(lambda: {\"score\": -float(\"inf\"), \"payload\": None})\n",
    "\n",
    "    for res in search_results:\n",
    "        speaker_id = res.payload[\"id\"]\n",
    "        if res.score > speaker_best[speaker_id][\"score\"]:\n",
    "            speaker_best[speaker_id] = {\"score\": res.score, \"payload\": res.payload}\n",
    "\n",
    "    # Sort speakers by their best score\n",
    "    top_speakers = sorted(speaker_best.values(), key=lambda x: x[\"score\"], reverse=True)\n",
    "\n",
    "    return top_speakers[:5]"
   ]
  },
  {
   "cell_type": "code",
   "execution_count": 33,
   "id": "d4e66782",
   "metadata": {},
   "outputs": [
    {
     "name": "stderr",
     "output_type": "stream",
     "text": [
      "/tmp/ipykernel_14091/420506408.py:4: DeprecationWarning: `search` method is deprecated and will be removed in the future. Use `query_points` instead.\n",
      "  search_results = qdrant_client.search(\n"
     ]
    }
   ],
   "source": [
    "top_speakers = search_sim('ernest.wav')"
   ]
  },
  {
   "cell_type": "code",
   "execution_count": 34,
   "id": "51619674",
   "metadata": {},
   "outputs": [
    {
     "data": {
      "text/plain": [
       "[{'score': 0.2734542,\n",
       "  'payload': {'id': 'id10297', 'path': 'o1EKUvjvNHY', 'num': '00009'}},\n",
       " {'score': 0.2673011,\n",
       "  'payload': {'id': 'id10278', 'path': 'DSGE2F5sTcg', 'num': '00001'}},\n",
       " {'score': 0.23668143,\n",
       "  'payload': {'id': 'id10309', 'path': 'rqaAm4bEsXc', 'num': '00004'}},\n",
       " {'score': 0.22416486,\n",
       "  'payload': {'id': 'id10304', 'path': 'HTL8iLI75TY', 'num': '00001'}},\n",
       " {'score': 0.22125077,\n",
       "  'payload': {'id': 'id10300', 'path': '1ZyvrJaiLQk', 'num': '00031'}}]"
      ]
     },
     "execution_count": 34,
     "metadata": {},
     "output_type": "execute_result"
    }
   ],
   "source": [
    "top_speakers"
   ]
  },
  {
   "cell_type": "code",
   "execution_count": 14,
   "id": "0bd641a7",
   "metadata": {},
   "outputs": [],
   "source": [
    "import pandas as pd\n",
    "\n",
    "df = pd.read_csv('dataset/vox1_meta.csv',delimiter='\\t')"
   ]
  },
  {
   "cell_type": "code",
   "execution_count": 35,
   "id": "b95e1da3",
   "metadata": {},
   "outputs": [
    {
     "name": "stdout",
     "output_type": "stream",
     "text": [
      "Name: Eric Roberts | Score: 0.2734542\n",
      "Name: Edward Asner | Score: 0.2673011\n",
      "Name: Ezra Miller | Score: 0.23668143\n",
      "Name: Eugene Levy | Score: 0.22416486\n",
      "Name: Ernest Borgnine | Score: 0.22125077\n"
     ]
    }
   ],
   "source": [
    "for res in top_speakers:\n",
    "    name = df[df['VoxCeleb1 ID'] == res['payload']['id']]['VGGFace1 ID'].values[0]\n",
    "    name = name.replace('_', ' ')\n",
    "    print('Name:', name, '| Score:', res['score'] )"
   ]
  },
  {
   "cell_type": "code",
   "execution_count": 36,
   "id": "ad9b78e9",
   "metadata": {},
   "outputs": [],
   "source": [
    "from speechbrain.inference.speaker import SpeakerRecognition\n",
    "verification = SpeakerRecognition.from_hparams(source=\"speechbrain/spkrec-ecapa-voxceleb\", savedir=\"pretrained_models/spkrec-ecapa-voxceleb\")"
   ]
  },
  {
   "cell_type": "code",
   "execution_count": 40,
   "id": "80e16ffc",
   "metadata": {},
   "outputs": [],
   "source": [
    "score, prediction = verification.verify_files(\"ernest.wav\", \"user_audio.wav\")"
   ]
  },
  {
   "cell_type": "code",
   "execution_count": 41,
   "id": "f7e7706e",
   "metadata": {},
   "outputs": [
    {
     "data": {
      "text/plain": [
       "tensor([0.0193])"
      ]
     },
     "execution_count": 41,
     "metadata": {},
     "output_type": "execute_result"
    }
   ],
   "source": [
    "score"
   ]
  },
  {
   "cell_type": "code",
   "execution_count": 42,
   "id": "4f713d86",
   "metadata": {},
   "outputs": [
    {
     "data": {
      "text/plain": [
       "tensor([False])"
      ]
     },
     "execution_count": 42,
     "metadata": {},
     "output_type": "execute_result"
    }
   ],
   "source": [
    "prediction"
   ]
  }
 ],
 "metadata": {
  "kernelspec": {
   "display_name": "base",
   "language": "python",
   "name": "python3"
  },
  "language_info": {
   "codemirror_mode": {
    "name": "ipython",
    "version": 3
   },
   "file_extension": ".py",
   "mimetype": "text/x-python",
   "name": "python",
   "nbconvert_exporter": "python",
   "pygments_lexer": "ipython3",
   "version": "3.12.7"
  }
 },
 "nbformat": 4,
 "nbformat_minor": 5
}
