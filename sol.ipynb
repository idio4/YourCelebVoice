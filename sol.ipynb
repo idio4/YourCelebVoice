{
 "cells": [
  {
   "cell_type": "code",
   "execution_count": 1,
   "id": "79afc5a3",
   "metadata": {},
   "outputs": [],
   "source": [
    "import torchaudio\n",
    "from collections import defaultdict\n",
    "import torchaudio.transforms as T\n",
    "import numpy as np\n",
    "import pandas as pd\n",
    "from transformers import Wav2Vec2FeatureExtractor, WavLMForXVector\n",
    "import torch\n",
    "feature_extractor = Wav2Vec2FeatureExtractor.from_pretrained('microsoft/wavlm-base-plus-sv',sampling_rate=16000)\n",
    "model = WavLMForXVector.from_pretrained('microsoft/wavlm-base-plus-sv')"
   ]
  },
  {
   "cell_type": "code",
   "execution_count": null,
   "id": "18af25c2",
   "metadata": {},
   "outputs": [
    {
     "name": "stdout",
     "output_type": "stream",
     "text": [
      "collections=[CollectionDescription(name='celebrity_voices')]\n"
     ]
    }
   ],
   "source": [
    "from qdrant_client import QdrantClient\n",
    "\n",
    "qdrant_client = QdrantClient(\n",
    "    url=\"\",\n",
    "    api_key=\"\",\n",
    ")\n",
    "\n",
    "print(qdrant_client.get_collections())"
   ]
  },
  {
   "cell_type": "code",
   "execution_count": 3,
   "id": "e8bede2c",
   "metadata": {},
   "outputs": [],
   "source": [
    "def preprocess_audio(path):\n",
    "    signal, sr = torchaudio.load(path)\n",
    "\n",
    "    if signal.shape[0] > 1:\n",
    "        signal = signal.mean(dim=0, keepdim=True)\n",
    "\n",
    "    if sr != 16000:\n",
    "        resampler = T.Resample(sr, 16000)\n",
    "        signal = resampler(signal)\n",
    "\n",
    "    return signal.squeeze().to(torch.float32).tolist()\n"
   ]
  },
  {
   "cell_type": "code",
   "execution_count": 6,
   "id": "14810bb1",
   "metadata": {},
   "outputs": [],
   "source": [
    "def search_sim(usr_path):\n",
    "    audio = preprocess_audio(usr_path)\n",
    "    inputs = feature_extractor(audio, padding=True, return_tensors=\"pt\", sampling_rate=16000)\n",
    "    embedding = model(**inputs).embeddings.cpu()\n",
    "    user_emb = embedding.flatten().detach()\n",
    "\n",
    "    search_results = qdrant_client.search(\n",
    "        collection_name=\"celebrity_voices\",\n",
    "        query_vector=user_emb,\n",
    "        limit=100\n",
    "    )\n",
    "\n",
    "    speaker_best = defaultdict(lambda: {\"score\": -float(\"inf\"), \"payload\": None})\n",
    "\n",
    "    for res in search_results:\n",
    "        speaker_id = res.payload[\"id\"]\n",
    "        if res.score > speaker_best[speaker_id][\"score\"]:\n",
    "            speaker_best[speaker_id] = {\"score\": res.score, \"payload\": res.payload}\n",
    "\n",
    "    top_speakers = sorted(speaker_best.values(), key=lambda x: x[\"score\"], reverse=True)\n",
    "\n",
    "    return top_speakers[:5]"
   ]
  },
  {
   "cell_type": "code",
   "execution_count": 20,
   "id": "d4e66782",
   "metadata": {},
   "outputs": [
    {
     "name": "stderr",
     "output_type": "stream",
     "text": [
      "/home/idio/anaconda3/lib/python3.12/site-packages/torch/nn/functional.py:5962: UserWarning: Support for mismatched key_padding_mask and attn_mask is deprecated. Use same type for both instead.\n",
      "  warnings.warn(\n",
      "/tmp/ipykernel_10583/3482108254.py:7: DeprecationWarning: `search` method is deprecated and will be removed in the future. Use `query_points` instead.\n",
      "  search_results = qdrant_client.search(\n"
     ]
    },
    {
     "data": {
      "text/plain": [
       "[{'score': 0.91528195,\n",
       "  'payload': {'id': 'id10305', 'path': '3QrLepYlH6o', 'num': '00013'}},\n",
       " {'score': 0.89936566,\n",
       "  'payload': {'id': 'id10292', 'path': '6Bh6P9nGsM4', 'num': '00003'}},\n",
       " {'score': 0.8867233,\n",
       "  'payload': {'id': 'id10277', 'path': '0rpfN7wThsg', 'num': '00001'}},\n",
       " {'score': 0.8784633,\n",
       "  'payload': {'id': 'id10276', 'path': '5YncBThNd5E', 'num': '00017'}},\n",
       " {'score': 0.8616822,\n",
       "  'payload': {'id': 'id10279', 'path': 'bmoAV7tZziI', 'num': '00001'}}]"
      ]
     },
     "execution_count": 20,
     "metadata": {},
     "output_type": "execute_result"
    }
   ],
   "source": [
    "top_speakers = search_sim('nikita2.wav')\n",
    "top_speakers"
   ]
  },
  {
   "cell_type": "code",
   "execution_count": null,
   "id": "b95e1da3",
   "metadata": {},
   "outputs": [
    {
     "name": "stdout",
     "output_type": "stream",
     "text": [
      "Name: Eugenio Derbez | Score: 0.91528195\n",
      "Name: Emraan Hashmi | Score: 0.89936566\n",
      "Name: Eduardo Noriega | Score: 0.8867233\n",
      "Name: Edgar Wright | Score: 0.8784633\n",
      "Name: Efren Ramirez | Score: 0.8616822\n"
     ]
    }
   ],
   "source": [
    "df = pd.read_csv('dataset/vox1_meta.csv',delimiter='\\t')\n",
    "for res in top_speakers:\n",
    "    name = df[df['VoxCeleb1 ID'] == res['payload']['id']]['VGGFace1 ID'].values[0]\n",
    "    name = name.replace('_', ' ')\n",
    "    print('Name:', name, '| Score:', res['score'] )"
   ]
  }
 ],
 "metadata": {
  "kernelspec": {
   "display_name": "base",
   "language": "python",
   "name": "python3"
  },
  "language_info": {
   "codemirror_mode": {
    "name": "ipython",
    "version": 3
   },
   "file_extension": ".py",
   "mimetype": "text/x-python",
   "name": "python",
   "nbconvert_exporter": "python",
   "pygments_lexer": "ipython3",
   "version": "3.12.7"
  }
 },
 "nbformat": 4,
 "nbformat_minor": 5
}
